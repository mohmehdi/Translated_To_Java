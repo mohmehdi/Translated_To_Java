{
 "cells": [
  {
   "cell_type": "code",
   "execution_count": null,
   "id": "0c0dd650",
   "metadata": {},
   "outputs": [],
   "source": [
    "pip install tiktoken"
   ]
  },
  {
   "cell_type": "code",
   "execution_count": 34,
   "id": "6c382975",
   "metadata": {
    "height": 166,
    "tags": []
   },
   "outputs": [],
   "source": [
    "import openai\n",
    "import requests\n",
    "import re\n",
    "import os\n",
    "import shutil\n",
    "import time\n",
    "from tqdm import tqdm\n",
    "import tiktoken\n",
    "from dotenv import load_dotenv, find_dotenv\n",
    "_ = load_dotenv(find_dotenv())\n",
    "\n",
    "openai.api_key  = os.getenv('OPENAI_API_KEY')"
   ]
  },
  {
   "cell_type": "code",
   "execution_count": null,
   "id": "907fba9e",
   "metadata": {},
   "outputs": [],
   "source": [
    "def num_tokens_from_string(string: str, encoding_name: str =  \"cl100k_base\") -> int:\n",
    "    \"\"\"Returns the number of tokens in a text string.\"\"\"\n",
    "    encoding = tiktoken.get_encoding(encoding_name)\n",
    "    num_tokens = len(encoding.encode(string))\n",
    "    return num_tokens\n",
    "\n",
    "num_tokens_from_string(\"tiktoken is great!\", \"cl100k_base\")"
   ]
  },
  {
   "cell_type": "code",
   "execution_count": 35,
   "id": "a7dff174",
   "metadata": {
    "height": 166,
    "tags": []
   },
   "outputs": [],
   "source": [
    "def get_completion(prompt, model=\"gpt-3.5-turbo\"):\n",
    "    messages = [{\"role\": \"user\", \"content\": prompt}]\n",
    "    response = openai.ChatCompletion.create(\n",
    "        model=model,\n",
    "        messages=messages,\n",
    "        temperature=0, # this is the degree of randomness of the model's output\n",
    "    )\n",
    "    if response.choices[0][\"finish_reason\"] == \"length\":\n",
    "        raise Exception(\"finish_reason == length\")\n",
    "    return response.choices[0].message[\"content\"]"
   ]
  },
  {
   "cell_type": "markdown",
   "id": "8857c565",
   "metadata": {
    "height": 30
   },
   "source": [
    "Download, Write, load the merged file"
   ]
  },
  {
   "cell_type": "code",
   "execution_count": 50,
   "id": "9934d455",
   "metadata": {
    "height": 106
   },
   "outputs": [
    {
     "name": "stdout",
     "output_type": "stream",
     "text": [
      "Kotlin_projects_commit_diff\n"
     ]
    }
   ],
   "source": [
    "proj_name = 'BaseRecyclerViewAdapterHelper_Diff'\n",
    "merged_url = f'https://raw.githubusercontent.com/benymaxparsa/Kotlin_projects_commit_diff/main/{proj_name}-merged.txt'\n",
    "paths_url = f'https://raw.githubusercontent.com/benymaxparsa/Kotlin_projects_commit_diff/main/{proj_name}-paths.txt'\n",
    "dir_name = merged_url.split('/')[4]\n",
    "print(dir_name)"
   ]
  },
  {
   "cell_type": "code",
   "execution_count": 37,
   "id": "c70ea67f",
   "metadata": {
    "height": 183
   },
   "outputs": [
    {
     "name": "stdout",
     "output_type": "stream",
     "text": [
      "455\n"
     ]
    }
   ],
   "source": [
    "r = requests.get(merged_url, allow_redirects=True)\n",
    "open('merged.txt', 'wb').write(r.content)\n",
    "\n",
    "with open('merged.txt','r') as file:\n",
    "    content = file.read()\n",
    "\n",
    "scripts = content.split('<code block>')\n",
    "print(len(scripts))\n",
    "# print(scripts[0].strip())"
   ]
  },
  {
   "cell_type": "code",
   "execution_count": 38,
   "id": "b6574a38",
   "metadata": {
    "height": 149
   },
   "outputs": [
    {
     "name": "stdout",
     "output_type": "stream",
     "text": [
      "455\n"
     ]
    }
   ],
   "source": [
    "r = requests.get(paths_url, allow_redirects=True)\n",
    "open('paths.txt', 'wb').write(r.content)\n",
    "\n",
    "with open('paths.txt','r') as file:\n",
    "    paths = file.readlines()\n",
    "\n",
    "print(len(paths))"
   ]
  },
  {
   "cell_type": "code",
   "execution_count": null,
   "id": "3b4a8179",
   "metadata": {},
   "outputs": [],
   "source": [
    "new_paths = []\n",
    "for i in range(len(paths)):\n",
    "    new_paths.append(''.join(paths[i].strip().split('.')[:-1]) + '.java')\n",
    "print(new_paths[0])\n",
    "len(new_paths)"
   ]
  },
  {
   "cell_type": "code",
   "execution_count": 39,
   "id": "b934a394",
   "metadata": {
    "height": 151
   },
   "outputs": [],
   "source": [
    "def remove_markdown(text):\n",
    "    text = text.replace('```java','')\n",
    "    return text.replace('```','')\n",
    "#     code_regex = r\"java(.*?)\"\n",
    "#     match = re.search(code_regex,text, re.DOTALL)\n",
    "#     if match is not None:\n",
    "#         return match.group(1)\n",
    "#     else:\n",
    "#         return text"
   ]
  },
  {
   "cell_type": "code",
   "execution_count": 40,
   "id": "8bdb1efb",
   "metadata": {
    "height": 183
   },
   "outputs": [],
   "source": [
    "begin_dico = dict()\n",
    "end_dico = dict()\n",
    "def get_commit(path):\n",
    "    return path.split('/')[2].split('-')[-1]\n",
    "\n",
    "commits = [get_commit(c) for c in paths]\n",
    "unique = set(commits)\n",
    "for u in unique:\n",
    "    begin_dico[u] = commits.index(u)\n",
    "    end_dico[u] = len(commits) - commits[::-1].index(u)"
   ]
  },
  {
   "cell_type": "code",
   "execution_count": null,
   "id": "f6a976da",
   "metadata": {},
   "outputs": [],
   "source": [
    "def get_file_name(index):\n",
    "    return new_paths[index]"
   ]
  },
  {
   "cell_type": "code",
   "execution_count": 53,
   "id": "87121316",
   "metadata": {
    "height": 214,
    "tags": []
   },
   "outputs": [],
   "source": [
    "incomplete_files = []\n",
    "\n",
    "def translate(begin,end):\n",
    "    result = []\n",
    "    index = begin\n",
    "    for code in tqdm(scripts[begin:end]): \n",
    "        text = code.strip()\n",
    "        prompt = f\"\"\"\n",
    "       Translate the provided Kotlin code to Java, ensuring the preservation of class, field, and method names without renaming. \n",
    "       The translation should cover the entire class, including all its fields, methods, inner classes, etc. \n",
    "       If entities outside classes exist, name their Java class by appending '15' to the file name (e.g., 'Calculator' becomes 'Calculator15' in Java). \n",
    "       Please maintain the structure and logic of the code during the translation process. \n",
    "       Do not create any new methods or fields.\n",
    "       File name is:{get_file_name(index)}\n",
    "        ```{text}```\n",
    "        \"\"\"\n",
    "        try:\n",
    "            response = get_completion(prompt)\n",
    "        except Exception as e:\n",
    "            if 'exceeded quota for this month' in str(e): # using the actual exception from the API did not work\n",
    "                raise Exception('exceeded quota for this month')\n",
    "            response = f\"File: {get_file_name(index)}\\nError: {e}\"\n",
    "            incomplete_files.append(get_file_name(index))\n",
    "            # print(response)\n",
    "\n",
    "        result.append(remove_markdown(response))\n",
    "        index+=1\n",
    "    return result"
   ]
  },
  {
   "cell_type": "code",
   "execution_count": 58,
   "id": "13dce41b",
   "metadata": {
    "height": 242
   },
   "outputs": [],
   "source": [
    "def save_files(result,begin,end):\n",
    "    files = list(zip(result,new_paths[begin:end]))\n",
    "    print(len(files))\n",
    "    for file in files:\n",
    "        path = os.path.dirname(file[1])\n",
    "        if not os.path.exists(path):\n",
    "            os.makedirs(path)\n",
    "        with open(file[1].strip(),'w') as f:\n",
    "            f.write(file[0])\n",
    "    shutil.make_archive(f'{proj_name}-{begin}-{end}', 'zip', dir_name)\n",
    "    shutil.rmtree(dir_name)"
   ]
  },
  {
   "cell_type": "code",
   "execution_count": null,
   "id": "5a06f2bc",
   "metadata": {
    "height": 234
   },
   "outputs": [
    {
     "name": "stderr",
     "output_type": "stream",
     "text": [
      "  0%|          | 0/4 [00:00<?, ?it/s]"
     ]
    }
   ],
   "source": [
    "commits = [\"1b6c8013\",\"20719891\",\"53644d00\"]\n",
    "incomplete_files = []\n",
    "for commit in commits:\n",
    "    begin = begin_dico[commit]\n",
    "    end =  end_dico[commit]\n",
    "    result = translate(begin,end)\n",
    "    save_files(result,begin,end)\n",
    "    \n",
    "    \n",
    "with open(f\"incomplete_{proj_name}_{'_'.join(commits)}.txt\",'w') as file:\n",
    "    file.write(\"\\n\".join(incomplete_files))"
   ]
  }
 ],
 "metadata": {
  "kernelspec": {
   "display_name": "Python 3 (ipykernel)",
   "language": "python",
   "name": "python3"
  },
  "language_info": {
   "codemirror_mode": {
    "name": "ipython",
    "version": 3
   },
   "file_extension": ".py",
   "mimetype": "text/x-python",
   "name": "python",
   "nbconvert_exporter": "python",
   "pygments_lexer": "ipython3",
   "version": "3.9.16"
  }
 },
 "nbformat": 4,
 "nbformat_minor": 5
}
